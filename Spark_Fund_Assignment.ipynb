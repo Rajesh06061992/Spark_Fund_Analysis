{
 "cells": [
  {
   "cell_type": "code",
   "execution_count": 1,
   "metadata": {},
   "outputs": [
    {
     "name": "stdout",
     "output_type": "stream",
     "text": [
      "(66368, 10)\n",
      "(114949, 6)\n"
     ]
    }
   ],
   "source": [
    "import warnings; warnings.simplefilter('ignore') # this line is to ignore the warnings.\n",
    "import pandas as pd\n",
    "import numpy as np\n",
    "\n",
    "companies=pd.read_csv('companies.txt',sep='\\t',encoding='ISO-8859-1')\n",
    "rounds2=pd.read_csv('rounds2.csv',encoding='ISO-8859-1')\n",
    "print(companies.shape)\n",
    "print(rounds2.shape)"
   ]
  },
  {
   "cell_type": "code",
   "execution_count": 2,
   "metadata": {},
   "outputs": [
    {
     "name": "stdout",
     "output_type": "stream",
     "text": [
      "The number of unique company in Companies dataset : 66368\n"
     ]
    }
   ],
   "source": [
    "#checking the unique permalink persent in companies table.\n",
    "#this number will be equal to the number of unique comapny present in companies data set.\n",
    "companies['permalink']=companies['permalink'].apply(lambda x:x.lower().encode('ISO-8859-1','ignore').decode('ascii','ignore'))\n",
    "print(\"The number of unique company in Companies dataset :\",companies['permalink'].nunique())"
   ]
  },
  {
   "cell_type": "code",
   "execution_count": 3,
   "metadata": {},
   "outputs": [
    {
     "name": "stdout",
     "output_type": "stream",
     "text": [
      "The number of unique company in round2 dataset : 66368\n"
     ]
    }
   ],
   "source": [
    "#checking the unique permalink persent in round2 table.\n",
    "#this number will be equal to the number of unique comapny present in rounds2 data set.\n",
    "rounds2['company_permalink']=rounds2['company_permalink'].apply(lambda x:x.lower().encode('ISO-8859-1','ignore').decode('ascii','ignore'))\n",
    "print(\"The number of unique company in round2 dataset :\",rounds2['company_permalink'].nunique())"
   ]
  },
  {
   "cell_type": "code",
   "execution_count": 4,
   "metadata": {},
   "outputs": [
    {
     "name": "stdout",
     "output_type": "stream",
     "text": [
      "Number of Unique companies present in rounds2 data set and not present in companies dataset : 0\n"
     ]
    }
   ],
   "source": [
    "#this code will  tell us the unique companies present in round2 but not in companies data set\n",
    "companiesuniquevalue=set(companies['permalink'].unique().tolist())\n",
    "round2uniquevaluelue=set(rounds2['company_permalink'].unique().tolist())\n",
    "print(\"Number of Unique companies present in rounds2 data set and not present in companies dataset :\",len(round2uniquevaluelue-companiesuniquevalue))"
   ]
  },
  {
   "cell_type": "code",
   "execution_count": 5,
   "metadata": {},
   "outputs": [
    {
     "name": "stdout",
     "output_type": "stream",
     "text": [
      "Number of observation in master data frame: (114949, 16)\n"
     ]
    }
   ],
   "source": [
    "#merging the two data set round2 and company\n",
    "master_frame=pd.merge(rounds2,companies,left_on='company_permalink',right_on='permalink',how='inner')\n",
    "print(\"Number of observation in master data frame:\",master_frame.shape)"
   ]
  },
  {
   "cell_type": "code",
   "execution_count": 6,
   "metadata": {},
   "outputs": [
    {
     "name": "stdout",
     "output_type": "stream",
     "text": [
      "Average funding for angel type : 958694.4697530865\n",
      "Average funding for seed type : 719817.9969071728\n",
      "Average funding for venture type : 11748949.129489528\n",
      "Average funding for private_equity type : 73308593.02944215\n"
     ]
    }
   ],
   "source": [
    "#code to calculate the most representational value for each fund type\n",
    "avgvalue=master_frame.groupby('funding_round_type').raised_amount_usd.mean()\n",
    "print(\"Average funding for angel type :\",avgvalue.loc['angel'])\n",
    "print(\"Average funding for seed type :\",avgvalue.loc['seed'])\n",
    "print(\"Average funding for venture type :\",avgvalue.loc['venture'])\n",
    "print(\"Average funding for private_equity type :\",avgvalue.loc['private_equity'])"
   ]
  },
  {
   "cell_type": "code",
   "execution_count": 7,
   "metadata": {},
   "outputs": [
    {
     "name": "stdout",
     "output_type": "stream",
     "text": [
      "Total number of data with venture type funding is : 55494\n"
     ]
    }
   ],
   "source": [
    "#creating a venturedataframe which will have data whose funding type is venture\n",
    "venturedataframe=master_frame.loc[master_frame.funding_round_type.str.lower()=='venture']\n",
    "print(\"Total number of data with venture type funding is :\",venturedataframe.shape[0])"
   ]
  },
  {
   "cell_type": "code",
   "execution_count": 8,
   "metadata": {},
   "outputs": [
    {
     "data": {
      "text/html": [
       "<div>\n",
       "<style scoped>\n",
       "    .dataframe tbody tr th:only-of-type {\n",
       "        vertical-align: middle;\n",
       "    }\n",
       "\n",
       "    .dataframe tbody tr th {\n",
       "        vertical-align: top;\n",
       "    }\n",
       "\n",
       "    .dataframe thead th {\n",
       "        text-align: right;\n",
       "    }\n",
       "</style>\n",
       "<table border=\"1\" class=\"dataframe\">\n",
       "  <thead>\n",
       "    <tr style=\"text-align: right;\">\n",
       "      <th></th>\n",
       "      <th>raised_amount_usd</th>\n",
       "    </tr>\n",
       "    <tr>\n",
       "      <th>country_code</th>\n",
       "      <th></th>\n",
       "    </tr>\n",
       "  </thead>\n",
       "  <tbody>\n",
       "    <tr>\n",
       "      <th>USA</th>\n",
       "      <td>4.225108e+11</td>\n",
       "    </tr>\n",
       "    <tr>\n",
       "      <th>CHN</th>\n",
       "      <td>3.983542e+10</td>\n",
       "    </tr>\n",
       "    <tr>\n",
       "      <th>GBR</th>\n",
       "      <td>2.024563e+10</td>\n",
       "    </tr>\n",
       "    <tr>\n",
       "      <th>IND</th>\n",
       "      <td>1.439186e+10</td>\n",
       "    </tr>\n",
       "    <tr>\n",
       "      <th>CAN</th>\n",
       "      <td>9.583332e+09</td>\n",
       "    </tr>\n",
       "    <tr>\n",
       "      <th>FRA</th>\n",
       "      <td>7.259537e+09</td>\n",
       "    </tr>\n",
       "    <tr>\n",
       "      <th>ISR</th>\n",
       "      <td>6.907515e+09</td>\n",
       "    </tr>\n",
       "    <tr>\n",
       "      <th>DEU</th>\n",
       "      <td>6.346960e+09</td>\n",
       "    </tr>\n",
       "    <tr>\n",
       "      <th>JPN</th>\n",
       "      <td>3.363677e+09</td>\n",
       "    </tr>\n",
       "  </tbody>\n",
       "</table>\n",
       "</div>"
      ],
      "text/plain": [
       "              raised_amount_usd\n",
       "country_code                   \n",
       "USA                4.225108e+11\n",
       "CHN                3.983542e+10\n",
       "GBR                2.024563e+10\n",
       "IND                1.439186e+10\n",
       "CAN                9.583332e+09\n",
       "FRA                7.259537e+09\n",
       "ISR                6.907515e+09\n",
       "DEU                6.346960e+09\n",
       "JPN                3.363677e+09"
      ]
     },
     "execution_count": 8,
     "metadata": {},
     "output_type": "execute_result"
    }
   ],
   "source": [
    "#top9 country which got highest funding type\n",
    "top9=pd.DataFrame(venturedataframe.groupby('country_code').raised_amount_usd.sum().sort_values(ascending=False))[0:9]\n",
    "top9"
   ]
  },
  {
   "cell_type": "code",
   "execution_count": 9,
   "metadata": {},
   "outputs": [
    {
     "name": "stdout",
     "output_type": "stream",
     "text": [
      "<class 'pandas.core.frame.DataFrame'>\n",
      "Int64Index: 54348 entries, 0 to 54347\n",
      "Data columns (total 18 columns):\n",
      "company_permalink          54348 non-null object\n",
      "funding_round_permalink    54348 non-null object\n",
      "funding_round_type         54348 non-null object\n",
      "funding_round_code         30500 non-null object\n",
      "funded_at                  54348 non-null object\n",
      "raised_amount_usd          49712 non-null float64\n",
      "permalink                  54348 non-null object\n",
      "name                       54348 non-null object\n",
      "homepage_url               51734 non-null object\n",
      "category_list              54348 non-null object\n",
      "status                     54348 non-null object\n",
      "country_code               52011 non-null object\n",
      "state_code                 51113 non-null object\n",
      "region                     51341 non-null object\n",
      "city                       51341 non-null object\n",
      "founded_at                 43972 non-null object\n",
      "primary_sector             54348 non-null object\n",
      "major_sector               54348 non-null object\n",
      "dtypes: float64(1), object(17)\n",
      "memory usage: 7.9+ MB\n"
     ]
    }
   ],
   "source": [
    "#create the ctgdataframe which will contain the column primary sector \n",
    "ctgdataframe=venturedataframe.loc[venturedataframe.category_list.notnull()]\n",
    "ctgdataframe.loc[:,'primary_sector']=ctgdataframe.loc[:,'category_list'].apply(lambda x:x.split(\"|\")[0].lower())\n",
    "\n",
    "#reading the mapping file and mapping each category with the corresponding major sector\n",
    "mappingdf=pd.read_csv(\"mapping.csv\")\n",
    "mappingdf=mappingdf.loc[mappingdf.category_list.notnull()]\n",
    "mappingdf.loc[:,'category_list']=mappingdf.loc[:,'category_list'].apply(lambda x:x.replace('0','na').replace('.na','.0').lower())\n",
    "melteddf = pd.melt(mappingdf,id_vars=[\"category_list\"],var_name=\"major_sector\", value_name=\"Value\")\n",
    "primary_sector_mapping=melteddf[melteddf.Value==1]\n",
    "\n",
    "#Code for a merged data frame with each primary sector mapped to its main sector \n",
    "major_sector_df=pd.merge(ctgdataframe,primary_sector_mapping,left_on=\"primary_sector\",right_on=\"category_list\",how=\"inner\")\n",
    "major_sector_df.drop([\"category_list_y\",\"Value\"],axis=1,inplace=True)\n",
    "major_sector_df.rename(columns={'category_list_x': 'category_list'}, inplace=True)\n",
    "\n",
    "#displaying info of resultant data frame\n",
    "major_sector_df.info()\n"
   ]
  },
  {
   "cell_type": "code",
   "execution_count": 10,
   "metadata": {},
   "outputs": [
    {
     "name": "stdout",
     "output_type": "stream",
     "text": [
      "<class 'pandas.core.frame.DataFrame'>\n",
      "Int64Index: 12063 entries, 0 to 12062\n",
      "Data columns (total 20 columns):\n",
      "company_permalink          12063 non-null object\n",
      "funding_round_permalink    12063 non-null object\n",
      "funding_round_type         12063 non-null object\n",
      "funding_round_code         8618 non-null object\n",
      "funded_at                  12063 non-null object\n",
      "raised_amount_usd          12063 non-null float64\n",
      "permalink                  12063 non-null object\n",
      "name                       12063 non-null object\n",
      "homepage_url               11495 non-null object\n",
      "category_list              12063 non-null object\n",
      "status                     12063 non-null object\n",
      "country_code               12063 non-null object\n",
      "state_code                 12061 non-null object\n",
      "region                     12054 non-null object\n",
      "city                       12054 non-null object\n",
      "founded_at                 10390 non-null object\n",
      "primary_sector             12063 non-null object\n",
      "major_sector               12063 non-null object\n",
      "count                      12063 non-null int64\n",
      "sum                        12063 non-null float64\n",
      "dtypes: float64(2), int64(1), object(17)\n",
      "memory usage: 1.9+ MB\n",
      "<class 'pandas.core.frame.DataFrame'>\n",
      "Int64Index: 621 entries, 0 to 620\n",
      "Data columns (total 20 columns):\n",
      "company_permalink          621 non-null object\n",
      "funding_round_permalink    621 non-null object\n",
      "funding_round_type         621 non-null object\n",
      "funding_round_code         385 non-null object\n",
      "funded_at                  621 non-null object\n",
      "raised_amount_usd          621 non-null float64\n",
      "permalink                  621 non-null object\n",
      "name                       621 non-null object\n",
      "homepage_url               592 non-null object\n",
      "category_list              621 non-null object\n",
      "status                     621 non-null object\n",
      "country_code               621 non-null object\n",
      "state_code                 607 non-null object\n",
      "region                     592 non-null object\n",
      "city                       592 non-null object\n",
      "founded_at                 498 non-null object\n",
      "primary_sector             621 non-null object\n",
      "major_sector               621 non-null object\n",
      "count                      621 non-null int64\n",
      "sum                        621 non-null float64\n",
      "dtypes: float64(2), int64(1), object(17)\n",
      "memory usage: 101.9+ KB\n",
      "<class 'pandas.core.frame.DataFrame'>\n",
      "Int64Index: 328 entries, 0 to 327\n",
      "Data columns (total 20 columns):\n",
      "company_permalink          328 non-null object\n",
      "funding_round_permalink    328 non-null object\n",
      "funding_round_type         328 non-null object\n",
      "funding_round_code         228 non-null object\n",
      "funded_at                  328 non-null object\n",
      "raised_amount_usd          328 non-null float64\n",
      "permalink                  328 non-null object\n",
      "name                       328 non-null object\n",
      "homepage_url               325 non-null object\n",
      "category_list              328 non-null object\n",
      "status                     328 non-null object\n",
      "country_code               328 non-null object\n",
      "state_code                 327 non-null object\n",
      "region                     327 non-null object\n",
      "city                       327 non-null object\n",
      "founded_at                 282 non-null object\n",
      "primary_sector             328 non-null object\n",
      "major_sector               328 non-null object\n",
      "count                      328 non-null int64\n",
      "sum                        328 non-null float64\n",
      "dtypes: float64(2), int64(1), object(17)\n",
      "memory usage: 53.8+ KB\n"
     ]
    }
   ],
   "source": [
    "#creating three data frames D1, D2 and D3 for each of the three countries(USA,GBR,IND) containing \n",
    "#the observations of funding type FT falling within the 5-15 million USD range\n",
    "\n",
    "D1=major_sector_df.loc[(major_sector_df.country_code == 'USA') & (major_sector_df.raised_amount_usd >= 5000000) & (major_sector_df.raised_amount_usd <= 15000000)]\n",
    "D2=major_sector_df.loc[(major_sector_df.country_code == 'GBR') & (major_sector_df.raised_amount_usd >= 5000000) & (major_sector_df.raised_amount_usd <= 15000000)]\n",
    "D3=major_sector_df.loc[(major_sector_df.country_code == 'IND') & (major_sector_df.raised_amount_usd >= 5000000) & (major_sector_df.raised_amount_usd <= 15000000)]\n",
    "\n",
    "#applying the group by function to get the count and sum of each major sector investment\n",
    "Count_sum_df_D1=D1.groupby(\"major_sector\").raised_amount_usd.agg({'count':'count','sum':'sum'})\n",
    "Count_sum_df_D2=D2.groupby(\"major_sector\").raised_amount_usd.agg({'count':'count','sum':'sum'})\n",
    "Count_sum_df_D3=D3.groupby(\"major_sector\").raised_amount_usd.agg({'count':'count','sum':'sum'})\n",
    "\n",
    "#code to merge the group by result with each country data frame.So that it will contain two sperate list of sum and count column\n",
    "D1=pd.merge(D1,Count_sum_df_D1,on=\"major_sector\",how=\"inner\")\n",
    "D2=pd.merge(D2,Count_sum_df_D2,on=\"major_sector\",how=\"inner\")\n",
    "D3=pd.merge(D3,Count_sum_df_D1,on=\"major_sector\",how=\"inner\")\n",
    "\n",
    "#Displaying the info of all three data frame\n",
    "D1.info()\n",
    "D2.info()\n",
    "D3.info()\n",
    "\n"
   ]
  },
  {
   "cell_type": "code",
   "execution_count": 11,
   "metadata": {},
   "outputs": [
    {
     "name": "stdout",
     "output_type": "stream",
     "text": [
      "Total number of investments (count): 12063\n",
      "Total amount of investment (USD): 107757097294.0\n",
      "Sector details for the C1 country\n",
      "major_sector\n",
      "Others                                     2950\n",
      "Social, Finance, Analytics, Advertising    2714\n",
      "Cleantech / Semiconductors                 2350\n",
      "News, Search and Messaging                 1583\n",
      "Health                                      909\n",
      "Manufacturing                               799\n",
      "Entertainment                               591\n",
      "Automotive & Sports                         167\n",
      "Name: funding_round_permalink, dtype: int64\n"
     ]
    },
    {
     "data": {
      "text/plain": [
       "company_permalink                        name                           \n",
       "/organization/shotspotter                SST Inc. (Formerly ShotSpotter)    67933006.0\n",
       "/organization/demandbase                 Demandbase                         63000000.0\n",
       "/organization/intacct                    Intacct                            61800000.0\n",
       "/organization/netbase                    NetBase Solutions                  60600000.0\n",
       "/organization/lotame                     Lotame                             59700000.0\n",
       "/organization/firstrain                  FirstRain                          58344731.0\n",
       "/organization/choicestream               ChoiceStream                       58300000.0\n",
       "/organization/optier                     OpTier                             55600000.0\n",
       "/organization/damballa                   Damballa                           55000000.0\n",
       "/organization/zoove                      Zoove                              54800000.0\n",
       "/organization/xactly-corp                Xactly Corp                        54500000.0\n",
       "/organization/hightail                   Hightail                           54000000.0\n",
       "/organization/chacha                     ChaCha                             53000000.0\n",
       "/organization/inrix                      INRIX                              51100018.0\n",
       "/organization/visible-measures           Visible Measures                   48500000.0\n",
       "/organization/univa                      Univa                              48385708.0\n",
       "/organization/vuclip                     Vuclip                             48100000.0\n",
       "/organization/yume                       YuMe                               47900000.0\n",
       "/organization/turn                       Turn                               45500000.0\n",
       "/organization/jaspersoft                 Jaspersoft                         43500000.0\n",
       "/organization/edo-interactive            edo Interactive                    43000100.0\n",
       "/organization/instamed                   InstaMed                           43000000.0\n",
       "/organization/inkling-systems            Inkling Systems                    42599999.0\n",
       "/organization/laszlosystems              Laszlo Systems                     41850000.0\n",
       "/organization/metamarkets                Metamarkets                        41000000.0\n",
       "/organization/host-analytics             Host Analytics                     40650000.0\n",
       "/organization/pivotlink-formerly-seatab  PivotLink                          40085068.0\n",
       "/organization/4info                      4INFO                              40000000.0\n",
       "/organization/aggregateknowledge         Aggregate Knowledge                39958350.0\n",
       "/organization/fiberzone-networks         FiberZone Networks                 39786202.0\n",
       "                                                                               ...    \n",
       "/organization/altitude-digital           Altitude Digital                    5000000.0\n",
       "/organization/shopadvisor                ShopAdvisor                         5000000.0\n",
       "/organization/flashpoint-partners        Flashpoint                          5000000.0\n",
       "/organization/jellyvision                Jellyvision                         5000000.0\n",
       "/organization/shazam-entertainment       Shazam                              5000000.0\n",
       "/organization/celect                     Celect                              5000000.0\n",
       "/organization/manicube                   Manicube                            5000000.0\n",
       "/organization/celtra-inc                 Celtra Inc.                         5000000.0\n",
       "/organization/fisoc                      Fisoc                               5000000.0\n",
       "/organization/jellyfish                  jellyfish                           5000000.0\n",
       "/organization/lucidchart                 Lucid Software Inc                  5000000.0\n",
       "/organization/bulldog-solutions          Bulldog Solutions                   5000000.0\n",
       "/organization/speedshape                 Speedshape                          5000000.0\n",
       "/organization/loudcloud-systems          LoudCloud Systems                   5000000.0\n",
       "/organization/fundly                     Fundly                              5000000.0\n",
       "/organization/jumptap                    Jumptap                             5000000.0\n",
       "/organization/soflow                     Soflow                              5000000.0\n",
       "/organization/bo-lt                      BO.LT                               5000000.0\n",
       "/organization/appcast-io                 Appcast, Inc                        5000000.0\n",
       "/organization/social-reality             Social Reality                      5000000.0\n",
       "/organization/local-corporation          Local Corporation                   5000000.0\n",
       "/organization/booyah                     Booyah                              5000000.0\n",
       "/organization/boundless-network          Boundless Network                   5000000.0\n",
       "/organization/friendfeed                 FriendFeed                          5000000.0\n",
       "/organization/harvest-exchange           Harvest Exchange                    5000000.0\n",
       "/organization/logi-analytics             LogiAnalytics                       5000000.0\n",
       "/organization/smartturn                  SmartTurn                           5000000.0\n",
       "/organization/fractal-sciences           Accomplice                          5000000.0\n",
       "/organization/amtec-lcc                  Amtec                               5000000.0\n",
       "/organization/initiate-systems           Initiate Systems                    5000000.0\n",
       "Name: raised_amount_usd, Length: 1847, dtype: float64"
      ]
     },
     "execution_count": 11,
     "metadata": {},
     "output_type": "execute_result"
    }
   ],
   "source": [
    "#code to capture the table details for country C1(USA)\n",
    "\n",
    "print(\"Total number of investments (count):\",D1['raised_amount_usd'].count())\n",
    "print(\"Total amount of investment (USD):\",D1['raised_amount_usd'].sum())\n",
    "\n",
    "#code to get Top sectors (based on count of investments)\n",
    "sector_details=D1.groupby(\"major_sector\").funding_round_permalink.count().sort_values(ascending=False)\n",
    "print(\"Sector details for the C1 country\")\n",
    "print(sector_details)\n",
    "\n",
    "#code to get the company detail which received the highest investment for the top sector and second top sector\n",
    "D1[D1.major_sector=='Others'].groupby([\"company_permalink\",\"name\"]).raised_amount_usd.sum().sort_values(ascending=False)\n",
    "D1[D1.major_sector=='Social, Finance, Analytics, Advertising'].groupby([\"company_permalink\",\"name\"]).raised_amount_usd.sum().sort_values(ascending=False)\n"
   ]
  },
  {
   "cell_type": "code",
   "execution_count": 12,
   "metadata": {},
   "outputs": [
    {
     "name": "stdout",
     "output_type": "stream",
     "text": [
      "Total number of investments (count): 621\n",
      "Total amount of investment (USD): 5379078691.0\n",
      "Sector details for the C1 country\n",
      "major_sector\n",
      "Others                                     147\n",
      "Social, Finance, Analytics, Advertising    133\n",
      "Cleantech / Semiconductors                 130\n",
      "News, Search and Messaging                  73\n",
      "Entertainment                               56\n",
      "Manufacturing                               42\n",
      "Health                                      24\n",
      "Automotive & Sports                         16\n",
      "Name: funding_round_permalink, dtype: int64\n"
     ]
    },
    {
     "data": {
      "text/plain": [
       "company_permalink                                   name                                \n",
       "/organization/celltick-technologies                 Celltick Technologies                   37500000.0\n",
       "/organization/mythings                              myThings                                34000000.0\n",
       "/organization/zopa                                  Zopa                                    32900000.0\n",
       "/organization/imagini                               VisualDNA                               28550000.0\n",
       "/organization/marketinvoice                         MarketInvoice                           25553007.0\n",
       "/organization/sumup                                 SumUp                                   24293649.0\n",
       "/organization/amplience                             Amplience                               24200000.0\n",
       "/organization/garlik                                Garlik                                  22350000.0\n",
       "/organization/sportpursuit                          SportPursuit                            22024487.0\n",
       "/organization/victor                                Victor                                  21500000.0\n",
       "/organization/opengamma                             OpenGamma                               21000000.0\n",
       "/organization/kantox                                Kantox                                  19646334.0\n",
       "/organization/troux-technologies                    Troux Technologies                      17850000.0\n",
       "/organization/neul                                  Neul                                    17800000.0\n",
       "/organization/livebookings                          Livebookings Holdings Ltd.              16500000.0\n",
       "/organization/crowdcube                             Crowdcube                               15862857.0\n",
       "/organization/coco-communications                   Coco Communications                     15047666.0\n",
       "/organization/similarweb                            SimilarWeb                              15000000.0\n",
       "/organization/exchange-lab                          The Exchange Lab                        14000000.0\n",
       "/organization/purplebricks                          PurpleBricks                            13364740.0\n",
       "/organization/icrossing                             iCrossing                               13000000.0\n",
       "/organization/captify                               Captify                                 12597433.0\n",
       "/organization/borro                                 Borro                                   12072758.0\n",
       "/organization/virtensys                             VirtenSys                               12000000.0\n",
       "/organization/metail                                Metail                                  12000000.0\n",
       "/organization/inspired-capital-plc                  Inspired Capital plc                    12000000.0\n",
       "/organization/videoplaza                            Videoplaza                              12000000.0\n",
       "/organization/seedrs                                Seedrs                                  11703571.0\n",
       "/organization/psytechnics                           Psytechnics                             11600000.0\n",
       "/organization/ocean-outdoor                         Ocean Outdoor                           11597927.0\n",
       "                                                                                               ...    \n",
       "/organization/salaryfinance                         SalaryFinance                            6100000.0\n",
       "/organization/transferwise                          TransferWise                             6000000.0\n",
       "/organization/hassle-com                            Hassle.com                               6000000.0\n",
       "/organization/peoplevox                             Peoplevox                                6000000.0\n",
       "/organization/wonga                                 Wonga                                    6000000.0\n",
       "/organization/brandwatch                            Brandwatch                               6000000.0\n",
       "/organization/yd-world                              Yieldr                                   5918360.0\n",
       "/organization/quipper                               Quipper                                  5800000.0\n",
       "/organization/tideway-systems-ltd                   Tideway Systems ltd                      5800000.0\n",
       "/organization/rockabox                              Rockabox                                 5697713.0\n",
       "/organization/moda-in-pelle                         Moda in Pelle                            5613247.0\n",
       "/organization/ebury-partners                        Ebury                                    5603526.0\n",
       "/organization/linkdex                               Linkdex                                  5509959.0\n",
       "/organization/portr                                 Portr                                    5500000.0\n",
       "/organization/aihit                                 aiHit                                    5500000.0\n",
       "/organization/somo                                  Somo                                     5500000.0\n",
       "/organization/365scores                             365Scores                                5500000.0\n",
       "/organization/mirriad                               Mirriad                                  5457478.0\n",
       "/organization/vouchedfor                            VouchedFor                               5400000.0\n",
       "/organization/scl                                   SCL                                      5325912.0\n",
       "/organization/nutmeg                                Nutmeg                                   5322729.0\n",
       "/organization/smartfundit-com                       smartfundit.com                          5170000.0\n",
       "/organization/palringo                              Palringo                                 5164439.0\n",
       "/organization/memrise                               Memrise                                  5100000.0\n",
       "/organization/government-grant-and-tax-consultants  Government Grant and Tax Consultants     5015782.0\n",
       "/organization/moo                                   MOO.COM                                  5000000.0\n",
       "/organization/rangespan                             Rangespan                                5000000.0\n",
       "/organization/tamoco                                Tamoco                                   5000000.0\n",
       "/organization/the-fizzback-group                    The Fizzback Group                       5000000.0\n",
       "/organization/duedil                                DueDil                                   5000000.0\n",
       "Name: raised_amount_usd, Length: 104, dtype: float64"
      ]
     },
     "execution_count": 12,
     "metadata": {},
     "output_type": "execute_result"
    }
   ],
   "source": [
    "#code to capture the table details for country C2(GBR)\n",
    "\n",
    "print(\"Total number of investments (count):\",D2['raised_amount_usd'].count())\n",
    "print(\"Total amount of investment (USD):\",D2['raised_amount_usd'].sum())\n",
    "\n",
    "#code to get Top sectors (based on count of investments)\n",
    "sector_details=D2.groupby(\"major_sector\").funding_round_permalink.count().sort_values(ascending=False)\n",
    "print(\"Sector details for the C1 country\")\n",
    "print(sector_details)\n",
    "\n",
    "#code to get the company detailse which received the highest investment for the top sector and 2 top sector\n",
    "D2[D2.major_sector=='Others'].groupby([\"company_permalink\",\"name\"]).raised_amount_usd.sum().sort_values(ascending=False)\n",
    "D2[D2.major_sector=='Social, Finance, Analytics, Advertising'].groupby([\"company_permalink\",\"name\"]).raised_amount_usd.sum().sort_values(ascending=False)\n"
   ]
  },
  {
   "cell_type": "code",
   "execution_count": 13,
   "metadata": {},
   "outputs": [
    {
     "name": "stdout",
     "output_type": "stream",
     "text": [
      "Total number of investments (count): 328\n",
      "Total amount of investment (USD): 2949543602.0\n",
      "Sector details for the C1 country\n",
      "major_sector\n",
      "Others                                     110\n",
      "Social, Finance, Analytics, Advertising     60\n",
      "News, Search and Messaging                  52\n",
      "Entertainment                               33\n",
      "Manufacturing                               21\n",
      "Cleantech / Semiconductors                  20\n",
      "Health                                      19\n",
      "Automotive & Sports                         13\n",
      "Name: funding_round_permalink, dtype: int64\n"
     ]
    },
    {
     "data": {
      "text/plain": [
       "company_permalink                                           name                                          \n",
       "/organization/manthan-systems                               Manthan Systems                                   50700000.0\n",
       "/organization/komli-media                                   Komli Media                                       28000000.0\n",
       "/organization/shopclues-com                                 ShopClues.com                                     25000000.0\n",
       "/organization/intarvo                                       inTarvo                                           21900000.0\n",
       "/organization/grameen-financial-services                    Grameen Financial Services                        21556050.0\n",
       "/organization/bankbazaar                                    BankBazaar.com                                    19000000.0\n",
       "/organization/microland                                     Microland                                         18300000.0\n",
       "/organization/eka-software-solutions                        Eka Software Solutions                            16000000.0\n",
       "/organization/qyuki                                         Qyuki                                             15400000.0\n",
       "/organization/financial-information-network-operations-pvt  Financial Information Network & Operations Pvt    15000000.0\n",
       "/organization/travelguru                                    TravelGuru                                        15000000.0\n",
       "/organization/shiram-credit                                 Shiram Credit                                     15000000.0\n",
       "/organization/apnaloan                                      ApnaPaisa                                         15000000.0\n",
       "/organization/capital-float                                 Capital Float                                     13000000.0\n",
       "/organization/yepme-com                                     yepme.com                                         12700000.0\n",
       "/organization/coverfox-insurance-broking                    Coverfox Insurance                                12000000.0\n",
       "/organization/funds-india                                   FundsIndia                                        11000000.0\n",
       "/organization/emergent-ventures-india                       Emergent Ventures India                           10040000.0\n",
       "/organization/loginext-solutions                            LogiNext Solutions                                10000000.0\n",
       "/organization/lendingkart                                   Lendingkart                                       10000000.0\n",
       "/organization/network18                                     Network18                                         10000000.0\n",
       "/organization/excellence4u                                  Excellence4u                                      10000000.0\n",
       "/organization/unicommerce                                   Unicommerce eSolutions Pvt. Ltd.                  10000000.0\n",
       "/organization/razorpay                                      Razorpay                                           9000000.0\n",
       "/organization/industrybuying                                Industrybuying                                     9000000.0\n",
       "/organization/vizury                                        Vizury                                             9000000.0\n",
       "/organization/fusion-microfinance                           Fusion Microfinance                                8300000.0\n",
       "/organization/shubham-housing-development-finance-company   Shubham Housing Development Finance Company        8000000.0\n",
       "/organization/spire-technologies                            Spire Technologies                                 8000000.0\n",
       "/organization/prizm-payment-services                        Prizm Payment Services                             8000000.0\n",
       "/organization/indiaideas                                    IndiaIdeas                                         7500000.0\n",
       "/organization/epiance                                       Epiance                                            7500000.0\n",
       "/organization/crmnext                                       CRMNEXT                                            7003500.0\n",
       "/organization/neogrowth                                     Neogrowth                                          7000000.0\n",
       "/organization/minglebox                                     Minglebox                                          7000000.0\n",
       "/organization/a-little-world                                A LITTLE WORLD                                     6410000.0\n",
       "/organization/daksh-infosoft                                Daksh Infosoft                                     6000000.0\n",
       "/organization/furlenco                                      Furlenco                                           6000000.0\n",
       "/organization/agile                                         Agile                                              5740000.0\n",
       "/organization/ebs-worldwide-services                        EBS Worldwide Services                             5500000.0\n",
       "/organization/eko-india-financial-services                  Eko India Financial Services                       5500000.0\n",
       "/organization/amagi-media-labs                              Amagi Media Labs                                   5500000.0\n",
       "/organization/innoviti                                      Innoviti                                           5000000.0\n",
       "/organization/authorstream                                  authorSTREAM.com                                   5000000.0\n",
       "/organization/policybazaar                                  PolicyBazaar                                       5000000.0\n",
       "/organization/annapurna-microfinace                         Annapurna Microfinace                              5000000.0\n",
       "/organization/akosha                                        Akosha                                             5000000.0\n",
       "/organization/ideacts-innovations                           ideacts innovations                                5000000.0\n",
       "Name: raised_amount_usd, dtype: float64"
      ]
     },
     "execution_count": 13,
     "metadata": {},
     "output_type": "execute_result"
    }
   ],
   "source": [
    "#code to capture the table details for country C3(IND)\n",
    "\n",
    "print(\"Total number of investments (count):\",D3['raised_amount_usd'].count())\n",
    "print(\"Total amount of investment (USD):\",D3['raised_amount_usd'].sum())\n",
    "\n",
    "#code to get Top sectors (based on count of investments)\n",
    "sector_details=D3.groupby(\"major_sector\").funding_round_permalink.count().sort_values(ascending=False)\n",
    "print(\"Sector details for the C1 country\")\n",
    "print(sector_details)\n",
    "\n",
    "#code to get the company detailse which received the highest investment for the top sector and 2 top sector\n",
    "D3[D3.major_sector=='Others'].groupby([\"company_permalink\",\"name\"]).raised_amount_usd.sum().sort_values(ascending=False)\n",
    "D3[D3.major_sector=='Social, Finance, Analytics, Advertising'].groupby([\"company_permalink\",\"name\"]).raised_amount_usd.sum().sort_values(ascending=False)\n"
   ]
  },
  {
   "cell_type": "code",
   "execution_count": 14,
   "metadata": {},
   "outputs": [
    {
     "data": {
      "image/png": "[encoded data removed]",
      "text/plain": [
       "<Figure size 576x576 with 1 Axes>"
      ]
     },
     "metadata": {
      "needs_background": "light"
     },
     "output_type": "display_data"
    },
    {
     "data": {
      "image/png": "[encoded data removed]",
      "text/plain": [
       "<Figure size 576x576 with 1 Axes>"
      ]
     },
     "metadata": {
      "needs_background": "light"
     },
     "output_type": "display_data"
    }
   ],
   "source": [
    "#code to plot the graph for showing the avg funding in venture,seed and private equity funding type\n",
    "%matplotlib inline\n",
    "import matplotlib.pyplot as plt\n",
    "import seaborn as sns\n",
    "fundingtypedf=master_frame.loc[(master_frame.funding_round_type=='venture') | (master_frame.funding_round_type=='seed') | (master_frame.funding_round_type=='private_equity')]\n",
    "plt.figure(1,figsize=(8, 8))\n",
    "plt.subplot(121)\n",
    "sns.barplot(x='funding_round_type', y=fundingtypedf['raised_amount_usd']/1000000, data=fundingtypedf)\n",
    "plt.ylabel('Average Investment(In Millions)')\n",
    "plt.xlabel('Funding Type')\n",
    "plt.title(\"Average Per Funding Type\")\n",
    "\n",
    "plt.figure(2,figsize=(8, 8))\n",
    "plt.subplot(122)\n",
    "sns.countplot(y='funding_round_type',data=master_frame)\n",
    "plt.ylabel('Funding Type')\n",
    "plt.xlabel('Number of Investment')\n",
    "plt.title(\"Count of Each Funding Type\")\n",
    "\n",
    "plt.show()"
   ]
  },
  {
   "cell_type": "code",
   "execution_count": 15,
   "metadata": {},
   "outputs": [
    {
     "data": {
      "image/png": "[encoded data removed]",
      "text/plain": [
       "<Figure size 432x288 with 1 Axes>"
      ]
     },
     "metadata": {
      "needs_background": "light"
     },
     "output_type": "display_data"
    }
   ],
   "source": [
    "#code to plot the graph for the top 9 countries\n",
    "\n",
    "plt.bar(top9.index,top9['raised_amount_usd']/1000000)\n",
    "plt.xlabel(\"Countries\")\n",
    "plt.ylabel(\"Total Investment(In Millions)\")\n",
    "plt.show()"
   ]
  },
  {
   "cell_type": "code",
   "execution_count": 16,
   "metadata": {},
   "outputs": [
    {
     "data": {
      "image/png": "[encoded data removed]",
      "text/plain": [
       "<Figure size 576x576 with 1 Axes>"
      ]
     },
     "metadata": {
      "needs_background": "light"
     },
     "output_type": "display_data"
    }
   ],
   "source": [
    "#code to plot the graph for the major sector for top3 english speaking country\n",
    "\n",
    "resultant=pd.concat([D1,D2,D3])\n",
    "plt.figure(figsize=(8, 8))\n",
    "sns.countplot(x='country_code',hue='major_sector',data=resultant)\n",
    "plt.xlabel(\"Country Code\")\n",
    "plt.ylabel(\"No of Investment\")\n",
    "plt.show()"
   ]
  },
  {
   "cell_type": "code",
   "execution_count": null,
   "metadata": {},
   "outputs": [],
   "source": []
  }
 ],
 "metadata": {
  "kernelspec": {
   "display_name": "Python 3",
   "language": "python",
   "name": "python3"
  },
  "language_info": {
   "codemirror_mode": {
    "name": "ipython",
    "version": 3
   },
   "file_extension": ".py",
   "mimetype": "text/x-python",
   "name": "python",
   "nbconvert_exporter": "python",
   "pygments_lexer": "ipython3",
   "version": "3.8.3"
  }
 },
 "nbformat": 4,
 "nbformat_minor": 2
}
